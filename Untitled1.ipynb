{
  "nbformat": 4,
  "nbformat_minor": 0,
  "metadata": {
    "colab": {
      "name": "Untitled1.ipynb",
      "provenance": [],
      "authorship_tag": "ABX9TyMwEq/57iUr0eLC/ANoVqNj",
      "include_colab_link": true
    },
    "kernelspec": {
      "name": "python3",
      "display_name": "Python 3"
    },
    "accelerator": "GPU"
  },
  "cells": [
    {
      "cell_type": "markdown",
      "metadata": {
        "id": "view-in-github",
        "colab_type": "text"
      },
      "source": [
        "<a href=\"https://colab.research.google.com/github/Soubhagyabehera/CNN/blob/master/Untitled1.ipynb\" target=\"_parent\"><img src=\"https://colab.research.google.com/assets/colab-badge.svg\" alt=\"Open In Colab\"/></a>"
      ]
    },
    {
      "cell_type": "code",
      "metadata": {
        "id": "yJLSpO2kJW_j",
        "colab_type": "code",
        "colab": {}
      },
      "source": [
        ""
      ],
      "execution_count": 0,
      "outputs": []
    },
    {
      "cell_type": "code",
      "metadata": {
        "id": "laJc3wCDPAfO",
        "colab_type": "code",
        "colab": {
          "base_uri": "https://localhost:8080/",
          "height": 265
        },
        "outputId": "eeff7875-a57a-426c-a9bc-308dcf5e29dd"
      },
      "source": [
        "\n",
        "import numpy as np\n",
        "import matplotlib.pyplot as plt\n",
        "\n",
        "n_pts=500\n",
        "\n",
        "top_reg_x=np.random.normal(10,2,n_pts)\n",
        "top_reg_y=np.random.normal(10,2,n_pts)\n",
        "\n",
        "\n",
        "bot_reg_x=np.random.normal(5,2,n_pts)\n",
        "bot_reg_y=np.random.normal(5,2,n_pts)\n",
        "\n",
        "# .T for transpose\n",
        "top_reg= np.array((top_reg_x,top_reg_y)).T\n",
        "bot_reg= np.array((bot_reg_x,bot_reg_y)).T\n",
        "\n",
        "xtr=np.vstack((top_reg,bot_reg))\n",
        "\n",
        "#to create a label matrix of ones and zeros\n",
        "labels=np.matrix(np.append(np.ones(n_pts),np.zeros(n_pts))).T\n",
        "\n",
        "plt.scatter(xtr[:n_pts,0],xtr[:n_pts,1])\n",
        "plt.scatter(xtr[n_pts:,0],xtr[n_pts:,1])\n",
        "plt.grid()\n",
        "plt.show()"
      ],
      "execution_count": 0,
      "outputs": [
        {
          "output_type": "display_data",
          "data": {
            "image/png": "[encoded data removed]",
            "text/plain": [
              "<Figure size 432x288 with 1 Axes>"
            ]
          },
          "metadata": {
            "tags": []
          }
        }
      ]
    },
    {
      "cell_type": "code",
      "metadata": {
        "id": "ddMLyJk8SENz",
        "colab_type": "code",
        "colab": {
          "base_uri": "https://localhost:8080/",
          "height": 202
        },
        "outputId": "6fd96ec9-8240-4342-8c4c-58fe3ef8ce0a"
      },
      "source": [
        "%tensorflow_version 1.x\n",
        "from keras.models import Sequential #Linear stack of layers\n",
        "from keras.layers import Dense # Every node of previous layer is connected to every node of next layer\n",
        "from keras.optimizers import Adam # Optimization fucntion that controls learning rate, different types of optimizers: adagrad,sgd,adamax\n",
        "\n",
        "model=Sequential()\n",
        "model.add(Dense(units=1,input_dim=2,activation='sigmoid')) #units=no of node in output layes\n",
        "model.compile(Adam(lr=0.1),loss='binary_crossentropy',metrics=['accuracy']) #if we have 2 labels then binary_crossentropy otherwise of more then 2 label then categorical\n",
        "print(model.summary())"
      ],
      "execution_count": 0,
      "outputs": [
        {
          "output_type": "stream",
          "text": [
            "Model: \"sequential_4\"\n",
            "_________________________________________________________________\n",
            "Layer (type)                 Output Shape              Param #   \n",
            "=================================================================\n",
            "dense_4 (Dense)              (None, 1)                 3         \n",
            "=================================================================\n",
            "Total params: 3\n",
            "Trainable params: 3\n",
            "Non-trainable params: 0\n",
            "_________________________________________________________________\n",
            "None\n"
          ],
          "name": "stdout"
        }
      ]
    },
    {
      "cell_type": "code",
      "metadata": {
        "id": "adRFVT3JYKZ9",
        "colab_type": "code",
        "colab": {
          "base_uri": "https://localhost:8080/",
          "height": 658
        },
        "outputId": "3b827a59-03e0-4171-de69-b46f50002330"
      },
      "source": [
        "model.fit(xtr,labels,epochs=10,verbose=1)\n"
      ],
      "execution_count": 20,
      "outputs": [
        {
          "output_type": "stream",
          "text": [
            "WARNING:tensorflow:From /usr/local/lib/python3.6/dist-packages/keras/backend/tensorflow_backend.py:1033: The name tf.assign_add is deprecated. Please use tf.compat.v1.assign_add instead.\n",
            "\n",
            "WARNING:tensorflow:From /usr/local/lib/python3.6/dist-packages/keras/backend/tensorflow_backend.py:1020: The name tf.assign is deprecated. Please use tf.compat.v1.assign instead.\n",
            "\n",
            "WARNING:tensorflow:From /usr/local/lib/python3.6/dist-packages/keras/backend/tensorflow_backend.py:3005: The name tf.Session is deprecated. Please use tf.compat.v1.Session instead.\n",
            "\n",
            "Epoch 1/10\n",
            "WARNING:tensorflow:From /usr/local/lib/python3.6/dist-packages/keras/backend/tensorflow_backend.py:190: The name tf.get_default_session is deprecated. Please use tf.compat.v1.get_default_session instead.\n",
            "\n",
            "WARNING:tensorflow:From /usr/local/lib/python3.6/dist-packages/keras/backend/tensorflow_backend.py:197: The name tf.ConfigProto is deprecated. Please use tf.compat.v1.ConfigProto instead.\n",
            "\n",
            "WARNING:tensorflow:From /usr/local/lib/python3.6/dist-packages/keras/backend/tensorflow_backend.py:207: The name tf.global_variables is deprecated. Please use tf.compat.v1.global_variables instead.\n",
            "\n",
            "WARNING:tensorflow:From /usr/local/lib/python3.6/dist-packages/keras/backend/tensorflow_backend.py:216: The name tf.is_variable_initialized is deprecated. Please use tf.compat.v1.is_variable_initialized instead.\n",
            "\n",
            "WARNING:tensorflow:From /usr/local/lib/python3.6/dist-packages/keras/backend/tensorflow_backend.py:223: The name tf.variables_initializer is deprecated. Please use tf.compat.v1.variables_initializer instead.\n",
            "\n",
            "1000/1000 [==============================] - 9s 9ms/step - loss: 1.1617 - acc: 0.5720\n",
            "Epoch 2/10\n",
            "1000/1000 [==============================] - 0s 89us/step - loss: 0.4263 - acc: 0.8390\n",
            "Epoch 3/10\n",
            "1000/1000 [==============================] - 0s 91us/step - loss: 0.3288 - acc: 0.9280\n",
            "Epoch 4/10\n",
            "1000/1000 [==============================] - 0s 92us/step - loss: 0.2658 - acc: 0.9520\n",
            "Epoch 5/10\n",
            "1000/1000 [==============================] - 0s 101us/step - loss: 0.2298 - acc: 0.9600\n",
            "Epoch 6/10\n",
            "1000/1000 [==============================] - 0s 89us/step - loss: 0.2020 - acc: 0.9630\n",
            "Epoch 7/10\n",
            "1000/1000 [==============================] - 0s 88us/step - loss: 0.1827 - acc: 0.9650\n",
            "Epoch 8/10\n",
            "1000/1000 [==============================] - 0s 77us/step - loss: 0.1704 - acc: 0.9610\n",
            "Epoch 9/10\n",
            "1000/1000 [==============================] - 0s 81us/step - loss: 0.1567 - acc: 0.9640\n",
            "Epoch 10/10\n",
            "1000/1000 [==============================] - 0s 79us/step - loss: 0.1540 - acc: 0.9600\n"
          ],
          "name": "stdout"
        },
        {
          "output_type": "execute_result",
          "data": {
            "text/plain": [
              "<keras.callbacks.History at 0x7fcb642bc908>"
            ]
          },
          "metadata": {
            "tags": []
          },
          "execution_count": 20
        }
      ]
    }
  ]
}